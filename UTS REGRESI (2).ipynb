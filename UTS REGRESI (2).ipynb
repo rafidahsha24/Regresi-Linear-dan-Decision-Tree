{
 "cells": [
  {
   "cell_type": "markdown",
   "id": "375205fb",
   "metadata": {},
   "source": [
    "## RAFIDAH SHAFA ARIZA RAMADHAN\n",
    "## 202131139\n",
    "## UTS PEMBELAJA6RAN MESIN"
   ]
  },
  {
   "cell_type": "markdown",
   "id": "63f1f34d",
   "metadata": {},
   "source": [
    "## IMPORT LIBRARY "
   ]
  },
  {
   "cell_type": "code",
   "execution_count": 9,
   "id": "fc3c11ea",
   "metadata": {},
   "outputs": [],
   "source": [
    "import pandas as pd\n",
    "import numpy as np\n",
    "import matplotlib.pyplot as plt\n",
    "from sklearn.linear_model import LinearRegression"
   ]
  },
  {
   "cell_type": "markdown",
   "id": "428581cb",
   "metadata": {},
   "source": [
    "yang pertama kita harus meng import Library \n",
    "pandas untuk memproses membaca data \n",
    "Numpy untuk membaca angka \n",
    "Matplotlibpyplot untuk memvisualisasi data"
   ]
  },
  {
   "cell_type": "code",
   "execution_count": 10,
   "id": "990a4bb0",
   "metadata": {},
   "outputs": [
    {
     "data": {
      "text/html": [
       "<div>\n",
       "<style scoped>\n",
       "    .dataframe tbody tr th:only-of-type {\n",
       "        vertical-align: middle;\n",
       "    }\n",
       "\n",
       "    .dataframe tbody tr th {\n",
       "        vertical-align: top;\n",
       "    }\n",
       "\n",
       "    .dataframe thead th {\n",
       "        text-align: right;\n",
       "    }\n",
       "</style>\n",
       "<table border=\"1\" class=\"dataframe\">\n",
       "  <thead>\n",
       "    <tr style=\"text-align: right;\">\n",
       "      <th></th>\n",
       "      <th>Corruption Perception (X)</th>\n",
       "      <th>Government Transparency (Y)</th>\n",
       "    </tr>\n",
       "  </thead>\n",
       "  <tbody>\n",
       "    <tr>\n",
       "      <th>0</th>\n",
       "      <td>3.2</td>\n",
       "      <td>65</td>\n",
       "    </tr>\n",
       "    <tr>\n",
       "      <th>1</th>\n",
       "      <td>2.5</td>\n",
       "      <td>72</td>\n",
       "    </tr>\n",
       "    <tr>\n",
       "      <th>2</th>\n",
       "      <td>4.1</td>\n",
       "      <td>58</td>\n",
       "    </tr>\n",
       "    <tr>\n",
       "      <th>3</th>\n",
       "      <td>2.8</td>\n",
       "      <td>68</td>\n",
       "    </tr>\n",
       "    <tr>\n",
       "      <th>4</th>\n",
       "      <td>3.5</td>\n",
       "      <td>60</td>\n",
       "    </tr>\n",
       "    <tr>\n",
       "      <th>5</th>\n",
       "      <td>2.4</td>\n",
       "      <td>75</td>\n",
       "    </tr>\n",
       "    <tr>\n",
       "      <th>6</th>\n",
       "      <td>3.9</td>\n",
       "      <td>55</td>\n",
       "    </tr>\n",
       "    <tr>\n",
       "      <th>7</th>\n",
       "      <td>2.7</td>\n",
       "      <td>70</td>\n",
       "    </tr>\n",
       "    <tr>\n",
       "      <th>8</th>\n",
       "      <td>3.8</td>\n",
       "      <td>57</td>\n",
       "    </tr>\n",
       "    <tr>\n",
       "      <th>9</th>\n",
       "      <td>2.9</td>\n",
       "      <td>71</td>\n",
       "    </tr>\n",
       "    <tr>\n",
       "      <th>10</th>\n",
       "      <td>4.2</td>\n",
       "      <td>54</td>\n",
       "    </tr>\n",
       "    <tr>\n",
       "      <th>11</th>\n",
       "      <td>2.6</td>\n",
       "      <td>73</td>\n",
       "    </tr>\n",
       "    <tr>\n",
       "      <th>12</th>\n",
       "      <td>3.0</td>\n",
       "      <td>65</td>\n",
       "    </tr>\n",
       "    <tr>\n",
       "      <th>13</th>\n",
       "      <td>2.3</td>\n",
       "      <td>76</td>\n",
       "    </tr>\n",
       "    <tr>\n",
       "      <th>14</th>\n",
       "      <td>4.0</td>\n",
       "      <td>56</td>\n",
       "    </tr>\n",
       "    <tr>\n",
       "      <th>15</th>\n",
       "      <td>3.4</td>\n",
       "      <td>62</td>\n",
       "    </tr>\n",
       "    <tr>\n",
       "      <th>16</th>\n",
       "      <td>2.2</td>\n",
       "      <td>78</td>\n",
       "    </tr>\n",
       "    <tr>\n",
       "      <th>17</th>\n",
       "      <td>4.3</td>\n",
       "      <td>53</td>\n",
       "    </tr>\n",
       "    <tr>\n",
       "      <th>18</th>\n",
       "      <td>3.3</td>\n",
       "      <td>63</td>\n",
       "    </tr>\n",
       "    <tr>\n",
       "      <th>19</th>\n",
       "      <td>2.1</td>\n",
       "      <td>80</td>\n",
       "    </tr>\n",
       "    <tr>\n",
       "      <th>20</th>\n",
       "      <td>4.4</td>\n",
       "      <td>52</td>\n",
       "    </tr>\n",
       "    <tr>\n",
       "      <th>21</th>\n",
       "      <td>3.7</td>\n",
       "      <td>59</td>\n",
       "    </tr>\n",
       "    <tr>\n",
       "      <th>22</th>\n",
       "      <td>2.0</td>\n",
       "      <td>82</td>\n",
       "    </tr>\n",
       "    <tr>\n",
       "      <th>23</th>\n",
       "      <td>4.5</td>\n",
       "      <td>51</td>\n",
       "    </tr>\n",
       "    <tr>\n",
       "      <th>24</th>\n",
       "      <td>3.6</td>\n",
       "      <td>61</td>\n",
       "    </tr>\n",
       "    <tr>\n",
       "      <th>25</th>\n",
       "      <td>2.8</td>\n",
       "      <td>69</td>\n",
       "    </tr>\n",
       "    <tr>\n",
       "      <th>26</th>\n",
       "      <td>4.2</td>\n",
       "      <td>55</td>\n",
       "    </tr>\n",
       "    <tr>\n",
       "      <th>27</th>\n",
       "      <td>3.1</td>\n",
       "      <td>66</td>\n",
       "    </tr>\n",
       "    <tr>\n",
       "      <th>28</th>\n",
       "      <td>2.7</td>\n",
       "      <td>72</td>\n",
       "    </tr>\n",
       "    <tr>\n",
       "      <th>29</th>\n",
       "      <td>4.3</td>\n",
       "      <td>54</td>\n",
       "    </tr>\n",
       "    <tr>\n",
       "      <th>30</th>\n",
       "      <td>3.9</td>\n",
       "      <td>57</td>\n",
       "    </tr>\n",
       "    <tr>\n",
       "      <th>31</th>\n",
       "      <td>2.5</td>\n",
       "      <td>70</td>\n",
       "    </tr>\n",
       "    <tr>\n",
       "      <th>32</th>\n",
       "      <td>4.4</td>\n",
       "      <td>53</td>\n",
       "    </tr>\n",
       "    <tr>\n",
       "      <th>33</th>\n",
       "      <td>3.0</td>\n",
       "      <td>65</td>\n",
       "    </tr>\n",
       "    <tr>\n",
       "      <th>34</th>\n",
       "      <td>2.6</td>\n",
       "      <td>73</td>\n",
       "    </tr>\n",
       "    <tr>\n",
       "      <th>35</th>\n",
       "      <td>4.1</td>\n",
       "      <td>58</td>\n",
       "    </tr>\n",
       "    <tr>\n",
       "      <th>36</th>\n",
       "      <td>3.2</td>\n",
       "      <td>68</td>\n",
       "    </tr>\n",
       "    <tr>\n",
       "      <th>37</th>\n",
       "      <td>2.4</td>\n",
       "      <td>75</td>\n",
       "    </tr>\n",
       "    <tr>\n",
       "      <th>38</th>\n",
       "      <td>4.5</td>\n",
       "      <td>51</td>\n",
       "    </tr>\n",
       "    <tr>\n",
       "      <th>39</th>\n",
       "      <td>3.5</td>\n",
       "      <td>60</td>\n",
       "    </tr>\n",
       "    <tr>\n",
       "      <th>40</th>\n",
       "      <td>2.9</td>\n",
       "      <td>71</td>\n",
       "    </tr>\n",
       "    <tr>\n",
       "      <th>41</th>\n",
       "      <td>3.8</td>\n",
       "      <td>56</td>\n",
       "    </tr>\n",
       "    <tr>\n",
       "      <th>42</th>\n",
       "      <td>2.3</td>\n",
       "      <td>76</td>\n",
       "    </tr>\n",
       "    <tr>\n",
       "      <th>43</th>\n",
       "      <td>4.0</td>\n",
       "      <td>52</td>\n",
       "    </tr>\n",
       "    <tr>\n",
       "      <th>44</th>\n",
       "      <td>3.4</td>\n",
       "      <td>62</td>\n",
       "    </tr>\n",
       "    <tr>\n",
       "      <th>45</th>\n",
       "      <td>2.2</td>\n",
       "      <td>78</td>\n",
       "    </tr>\n",
       "    <tr>\n",
       "      <th>46</th>\n",
       "      <td>4.4</td>\n",
       "      <td>53</td>\n",
       "    </tr>\n",
       "    <tr>\n",
       "      <th>47</th>\n",
       "      <td>3.3</td>\n",
       "      <td>63</td>\n",
       "    </tr>\n",
       "    <tr>\n",
       "      <th>48</th>\n",
       "      <td>2.1</td>\n",
       "      <td>80</td>\n",
       "    </tr>\n",
       "    <tr>\n",
       "      <th>49</th>\n",
       "      <td>4.3</td>\n",
       "      <td>54</td>\n",
       "    </tr>\n",
       "    <tr>\n",
       "      <th>50</th>\n",
       "      <td>3.7</td>\n",
       "      <td>59</td>\n",
       "    </tr>\n",
       "    <tr>\n",
       "      <th>51</th>\n",
       "      <td>2.0</td>\n",
       "      <td>82</td>\n",
       "    </tr>\n",
       "    <tr>\n",
       "      <th>52</th>\n",
       "      <td>4.5</td>\n",
       "      <td>61</td>\n",
       "    </tr>\n",
       "    <tr>\n",
       "      <th>53</th>\n",
       "      <td>3.6</td>\n",
       "      <td>69</td>\n",
       "    </tr>\n",
       "    <tr>\n",
       "      <th>54</th>\n",
       "      <td>2.8</td>\n",
       "      <td>50</td>\n",
       "    </tr>\n",
       "  </tbody>\n",
       "</table>\n",
       "</div>"
      ],
      "text/plain": [
       "    Corruption Perception (X)  Government Transparency (Y)\n",
       "0                         3.2                           65\n",
       "1                         2.5                           72\n",
       "2                         4.1                           58\n",
       "3                         2.8                           68\n",
       "4                         3.5                           60\n",
       "5                         2.4                           75\n",
       "6                         3.9                           55\n",
       "7                         2.7                           70\n",
       "8                         3.8                           57\n",
       "9                         2.9                           71\n",
       "10                        4.2                           54\n",
       "11                        2.6                           73\n",
       "12                        3.0                           65\n",
       "13                        2.3                           76\n",
       "14                        4.0                           56\n",
       "15                        3.4                           62\n",
       "16                        2.2                           78\n",
       "17                        4.3                           53\n",
       "18                        3.3                           63\n",
       "19                        2.1                           80\n",
       "20                        4.4                           52\n",
       "21                        3.7                           59\n",
       "22                        2.0                           82\n",
       "23                        4.5                           51\n",
       "24                        3.6                           61\n",
       "25                        2.8                           69\n",
       "26                        4.2                           55\n",
       "27                        3.1                           66\n",
       "28                        2.7                           72\n",
       "29                        4.3                           54\n",
       "30                        3.9                           57\n",
       "31                        2.5                           70\n",
       "32                        4.4                           53\n",
       "33                        3.0                           65\n",
       "34                        2.6                           73\n",
       "35                        4.1                           58\n",
       "36                        3.2                           68\n",
       "37                        2.4                           75\n",
       "38                        4.5                           51\n",
       "39                        3.5                           60\n",
       "40                        2.9                           71\n",
       "41                        3.8                           56\n",
       "42                        2.3                           76\n",
       "43                        4.0                           52\n",
       "44                        3.4                           62\n",
       "45                        2.2                           78\n",
       "46                        4.4                           53\n",
       "47                        3.3                           63\n",
       "48                        2.1                           80\n",
       "49                        4.3                           54\n",
       "50                        3.7                           59\n",
       "51                        2.0                           82\n",
       "52                        4.5                           61\n",
       "53                        3.6                           69\n",
       "54                        2.8                           50"
      ]
     },
     "execution_count": 10,
     "metadata": {},
     "output_type": "execute_result"
    }
   ],
   "source": [
    "data = pd.read_csv('R04_corruptions.csv')\n",
    "data "
   ]
  },
  {
   "cell_type": "markdown",
   "id": "b18ff7a0",
   "metadata": {},
   "source": [
    "selanjutnya kita menbaca dataset pada percobaan ini saya menggunakan data set corruptions.csv"
   ]
  },
  {
   "cell_type": "code",
   "execution_count": 11,
   "id": "89618978",
   "metadata": {},
   "outputs": [
    {
     "name": "stdout",
     "output_type": "stream",
     "text": [
      "<class 'pandas.core.frame.DataFrame'>\n",
      "RangeIndex: 55 entries, 0 to 54\n",
      "Data columns (total 2 columns):\n",
      " #   Column                       Non-Null Count  Dtype  \n",
      "---  ------                       --------------  -----  \n",
      " 0   Corruption Perception (X)    55 non-null     float64\n",
      " 1   Government Transparency (Y)  55 non-null     int64  \n",
      "dtypes: float64(1), int64(1)\n",
      "memory usage: 1012.0 bytes\n"
     ]
    }
   ],
   "source": [
    "data.info()"
   ]
  },
  {
   "cell_type": "markdown",
   "id": "ad0e223b",
   "metadata": {},
   "source": [
    "data.info()\n",
    "data.info di gunakan untuk mengetahui info yang ada dalam data set yang sudah di import yaitu dataset corruptions.csv"
   ]
  },
  {
   "cell_type": "code",
   "execution_count": 12,
   "id": "4d8add4c",
   "metadata": {},
   "outputs": [
    {
     "data": {
      "text/html": [
       "<div>\n",
       "<style scoped>\n",
       "    .dataframe tbody tr th:only-of-type {\n",
       "        vertical-align: middle;\n",
       "    }\n",
       "\n",
       "    .dataframe tbody tr th {\n",
       "        vertical-align: top;\n",
       "    }\n",
       "\n",
       "    .dataframe thead th {\n",
       "        text-align: right;\n",
       "    }\n",
       "</style>\n",
       "<table border=\"1\" class=\"dataframe\">\n",
       "  <thead>\n",
       "    <tr style=\"text-align: right;\">\n",
       "      <th></th>\n",
       "      <th>Corruption Perception (X)</th>\n",
       "      <th>Government Transparency (Y)</th>\n",
       "    </tr>\n",
       "  </thead>\n",
       "  <tbody>\n",
       "    <tr>\n",
       "      <th>Corruption Perception (X)</th>\n",
       "      <td>1.000000</td>\n",
       "      <td>-0.920063</td>\n",
       "    </tr>\n",
       "    <tr>\n",
       "      <th>Government Transparency (Y)</th>\n",
       "      <td>-0.920063</td>\n",
       "      <td>1.000000</td>\n",
       "    </tr>\n",
       "  </tbody>\n",
       "</table>\n",
       "</div>"
      ],
      "text/plain": [
       "                             Corruption Perception (X)  \\\n",
       "Corruption Perception (X)                     1.000000   \n",
       "Government Transparency (Y)                  -0.920063   \n",
       "\n",
       "                             Government Transparency (Y)  \n",
       "Corruption Perception (X)                      -0.920063  \n",
       "Government Transparency (Y)                     1.000000  "
      ]
     },
     "execution_count": 12,
     "metadata": {},
     "output_type": "execute_result"
    }
   ],
   "source": [
    "data.corr()"
   ]
  },
  {
   "attachments": {},
   "cell_type": "markdown",
   "id": "03214ade",
   "metadata": {},
   "source": [
    "Sebelum memutuskan menggunakan model regresi linier, hubungan antara variabel perlu dicek apakah memiliki korelasi secara linier"
   ]
  },
  {
   "cell_type": "code",
   "execution_count": 13,
   "id": "b8a01197",
   "metadata": {},
   "outputs": [],
   "source": [
    "x_train = data['Corruption Perception (X)'].values[:,np.newaxis]\n",
    "y_train = data['Government Transparency (Y)'].values"
   ]
  },
  {
   "cell_type": "markdown",
   "id": "1bee2b31",
   "metadata": {},
   "source": [
    "Selanjutnya kita menyiapkan nilai x dan y dari data set yang telah kita baca. Disini nilai x adalah 'Corruption Perception (X)' dan nilai Y adalah 'Government Transparency (Y)'"
   ]
  },
  {
   "cell_type": "code",
   "execution_count": 14,
   "id": "00cd1cfa",
   "metadata": {},
   "outputs": [
    {
     "name": "stdout",
     "output_type": "stream",
     "text": [
      "[[3.2]\n",
      " [2.5]\n",
      " [4.1]\n",
      " [2.8]\n",
      " [3.5]\n",
      " [2.4]\n",
      " [3.9]\n",
      " [2.7]\n",
      " [3.8]\n",
      " [2.9]\n",
      " [4.2]\n",
      " [2.6]\n",
      " [3. ]\n",
      " [2.3]\n",
      " [4. ]\n",
      " [3.4]\n",
      " [2.2]\n",
      " [4.3]\n",
      " [3.3]\n",
      " [2.1]\n",
      " [4.4]\n",
      " [3.7]\n",
      " [2. ]\n",
      " [4.5]\n",
      " [3.6]\n",
      " [2.8]\n",
      " [4.2]\n",
      " [3.1]\n",
      " [2.7]\n",
      " [4.3]\n",
      " [3.9]\n",
      " [2.5]\n",
      " [4.4]\n",
      " [3. ]\n",
      " [2.6]\n",
      " [4.1]\n",
      " [3.2]\n",
      " [2.4]\n",
      " [4.5]\n",
      " [3.5]\n",
      " [2.9]\n",
      " [3.8]\n",
      " [2.3]\n",
      " [4. ]\n",
      " [3.4]\n",
      " [2.2]\n",
      " [4.4]\n",
      " [3.3]\n",
      " [2.1]\n",
      " [4.3]\n",
      " [3.7]\n",
      " [2. ]\n",
      " [4.5]\n",
      " [3.6]\n",
      " [2.8]]\n"
     ]
    }
   ],
   "source": [
    "print (x_train)"
   ]
  },
  {
   "cell_type": "code",
   "execution_count": 15,
   "id": "c39c45f7",
   "metadata": {},
   "outputs": [
    {
     "name": "stdout",
     "output_type": "stream",
     "text": [
      "[65 72 58 68 60 75 55 70 57 71 54 73 65 76 56 62 78 53 63 80 52 59 82 51\n",
      " 61 69 55 66 72 54 57 70 53 65 73 58 68 75 51 60 71 56 76 52 62 78 53 63\n",
      " 80 54 59 82 61 69 50]\n"
     ]
    }
   ],
   "source": [
    "print (y_train)"
   ]
  },
  {
   "cell_type": "code",
   "execution_count": 16,
   "id": "41f6fa0a",
   "metadata": {},
   "outputs": [
    {
     "data": {
      "text/html": [
       "<style>#sk-container-id-1 {color: black;background-color: white;}#sk-container-id-1 pre{padding: 0;}#sk-container-id-1 div.sk-toggleable {background-color: white;}#sk-container-id-1 label.sk-toggleable__label {cursor: pointer;display: block;width: 100%;margin-bottom: 0;padding: 0.3em;box-sizing: border-box;text-align: center;}#sk-container-id-1 label.sk-toggleable__label-arrow:before {content: \"▸\";float: left;margin-right: 0.25em;color: #696969;}#sk-container-id-1 label.sk-toggleable__label-arrow:hover:before {color: black;}#sk-container-id-1 div.sk-estimator:hover label.sk-toggleable__label-arrow:before {color: black;}#sk-container-id-1 div.sk-toggleable__content {max-height: 0;max-width: 0;overflow: hidden;text-align: left;background-color: #f0f8ff;}#sk-container-id-1 div.sk-toggleable__content pre {margin: 0.2em;color: black;border-radius: 0.25em;background-color: #f0f8ff;}#sk-container-id-1 input.sk-toggleable__control:checked~div.sk-toggleable__content {max-height: 200px;max-width: 100%;overflow: auto;}#sk-container-id-1 input.sk-toggleable__control:checked~label.sk-toggleable__label-arrow:before {content: \"▾\";}#sk-container-id-1 div.sk-estimator input.sk-toggleable__control:checked~label.sk-toggleable__label {background-color: #d4ebff;}#sk-container-id-1 div.sk-label input.sk-toggleable__control:checked~label.sk-toggleable__label {background-color: #d4ebff;}#sk-container-id-1 input.sk-hidden--visually {border: 0;clip: rect(1px 1px 1px 1px);clip: rect(1px, 1px, 1px, 1px);height: 1px;margin: -1px;overflow: hidden;padding: 0;position: absolute;width: 1px;}#sk-container-id-1 div.sk-estimator {font-family: monospace;background-color: #f0f8ff;border: 1px dotted black;border-radius: 0.25em;box-sizing: border-box;margin-bottom: 0.5em;}#sk-container-id-1 div.sk-estimator:hover {background-color: #d4ebff;}#sk-container-id-1 div.sk-parallel-item::after {content: \"\";width: 100%;border-bottom: 1px solid gray;flex-grow: 1;}#sk-container-id-1 div.sk-label:hover label.sk-toggleable__label {background-color: #d4ebff;}#sk-container-id-1 div.sk-serial::before {content: \"\";position: absolute;border-left: 1px solid gray;box-sizing: border-box;top: 0;bottom: 0;left: 50%;z-index: 0;}#sk-container-id-1 div.sk-serial {display: flex;flex-direction: column;align-items: center;background-color: white;padding-right: 0.2em;padding-left: 0.2em;position: relative;}#sk-container-id-1 div.sk-item {position: relative;z-index: 1;}#sk-container-id-1 div.sk-parallel {display: flex;align-items: stretch;justify-content: center;background-color: white;position: relative;}#sk-container-id-1 div.sk-item::before, #sk-container-id-1 div.sk-parallel-item::before {content: \"\";position: absolute;border-left: 1px solid gray;box-sizing: border-box;top: 0;bottom: 0;left: 50%;z-index: -1;}#sk-container-id-1 div.sk-parallel-item {display: flex;flex-direction: column;z-index: 1;position: relative;background-color: white;}#sk-container-id-1 div.sk-parallel-item:first-child::after {align-self: flex-end;width: 50%;}#sk-container-id-1 div.sk-parallel-item:last-child::after {align-self: flex-start;width: 50%;}#sk-container-id-1 div.sk-parallel-item:only-child::after {width: 0;}#sk-container-id-1 div.sk-dashed-wrapped {border: 1px dashed gray;margin: 0 0.4em 0.5em 0.4em;box-sizing: border-box;padding-bottom: 0.4em;background-color: white;}#sk-container-id-1 div.sk-label label {font-family: monospace;font-weight: bold;display: inline-block;line-height: 1.2em;}#sk-container-id-1 div.sk-label-container {text-align: center;}#sk-container-id-1 div.sk-container {/* jupyter's `normalize.less` sets `[hidden] { display: none; }` but bootstrap.min.css set `[hidden] { display: none !important; }` so we also need the `!important` here to be able to override the default hidden behavior on the sphinx rendered scikit-learn.org. See: https://github.com/scikit-learn/scikit-learn/issues/21755 */display: inline-block !important;position: relative;}#sk-container-id-1 div.sk-text-repr-fallback {display: none;}</style><div id=\"sk-container-id-1\" class=\"sk-top-container\"><div class=\"sk-text-repr-fallback\"><pre>LinearRegression()</pre><b>In a Jupyter environment, please rerun this cell to show the HTML representation or trust the notebook. <br />On GitHub, the HTML representation is unable to render, please try loading this page with nbviewer.org.</b></div><div class=\"sk-container\" hidden><div class=\"sk-item\"><div class=\"sk-estimator sk-toggleable\"><input class=\"sk-toggleable__control sk-hidden--visually\" id=\"sk-estimator-id-1\" type=\"checkbox\" checked><label for=\"sk-estimator-id-1\" class=\"sk-toggleable__label sk-toggleable__label-arrow\">LinearRegression</label><div class=\"sk-toggleable__content\"><pre>LinearRegression()</pre></div></div></div></div></div>"
      ],
      "text/plain": [
       "LinearRegression()"
      ]
     },
     "execution_count": 16,
     "metadata": {},
     "output_type": "execute_result"
    }
   ],
   "source": [
    "lm = LinearRegression()\n",
    "lm.fit(x_train,y_train) # fase training"
   ]
  },
  {
   "cell_type": "markdown",
   "id": "6abc3bff",
   "metadata": {},
   "source": [
    "selanjutnya kita membuat model regresi linear dan melakukan training "
   ]
  },
  {
   "cell_type": "code",
   "execution_count": 17,
   "id": "32858e95",
   "metadata": {},
   "outputs": [
    {
     "name": "stdout",
     "output_type": "stream",
     "text": [
      "[77.33283736 57.67092624 51.11695587 72.96352377 58.76325463]\n"
     ]
    }
   ],
   "source": [
    "x_test = [[2.1],[3.9],[4.5],[2.5],[3.8]]\n",
    "predict = lm.predict(x_test)\n",
    "print(predict)"
   ]
  },
  {
   "cell_type": "markdown",
   "id": "cc68e944",
   "metadata": {},
   "source": [
    "Melakukan pengujian dengan data baru disini saya memaikai nilai secara acak dari nilai yang sudah saya train sebelumnya yaitu 2.1 , 3.9, 4.5, 2.5, 3.8"
   ]
  },
  {
   "cell_type": "code",
   "execution_count": 18,
   "id": "1289f31e",
   "metadata": {},
   "outputs": [
    {
     "name": "stdout",
     "output_type": "stream",
     "text": [
      "Coeficient :[-10.92328395]\n",
      "Intercept :100.27173366009497\n"
     ]
    }
   ],
   "source": [
    "print('Coeficient :' + str(lm.coef_))\n",
    "print('Intercept :' +str(lm.intercept_))"
   ]
  },
  {
   "attachments": {},
   "cell_type": "markdown",
   "id": "db7f351b",
   "metadata": {},
   "source": [
    "Pembuktian hasil prediksi. Dengan menggunakan model LinierRegression, dapat diketahui nilai a dan b untuk persamaan regresinya dengan memanggil fungsi coef_ dan intercept_. Nilai p yang didapat untuk data pengujian di atas didapat dari persamaan regresi di atas "
   ]
  },
  {
   "cell_type": "code",
   "execution_count": 19,
   "id": "179bf8d7",
   "metadata": {},
   "outputs": [
    {
     "data": {
      "image/png": "[encoded data removed]",
      "text/plain": [
       "<Figure size 640x480 with 1 Axes>"
      ]
     },
     "metadata": {},
     "output_type": "display_data"
    }
   ],
   "source": [
    "# Proses Pembuatan Visualisai Data\n",
    "prediksibaru = lm.predict(x_train)\n",
    "dfBaru = pd.DataFrame({'Corruption Perception (X)' : data['Corruption Perception (X)'], 'Government Transparency (Y)':prediksibaru})\n",
    "plt.scatter(data['Corruption Perception (X)'], data['Government Transparency (Y)'])\n",
    "plt.plot(dfBaru['Corruption Perception (X)'], dfBaru['Government Transparency (Y)'], color = 'red', linewidth=1)\n",
    "plt.xlabel(\"Corruption Perception (X)\")\n",
    "plt.ylabel('Government Transparency (Y)')\n",
    "plt.show()"
   ]
  },
  {
   "cell_type": "markdown",
   "id": "ccf718e0",
   "metadata": {},
   "source": [
    "Menampilkan visualisasi model Regresi linear "
   ]
  },
  {
   "cell_type": "markdown",
   "id": "2b997c4d",
   "metadata": {},
   "source": [
    "## Evaluasi model"
   ]
  },
  {
   "cell_type": "code",
   "execution_count": 20,
   "id": "b55552d3",
   "metadata": {},
   "outputs": [
    {
     "name": "stdout",
     "output_type": "stream",
     "text": [
      "92.32578583480844\n"
     ]
    }
   ],
   "source": [
    "from sklearn.metrics import r2_score\n",
    "akurasi = r2_score(data,dfBaru)\n",
    "print(akurasi*100)"
   ]
  }
 ],
 "metadata": {
  "kernelspec": {
   "display_name": "Python 3 (ipykernel)",
   "language": "python",
   "name": "python3"
  },
  "language_info": {
   "codemirror_mode": {
    "name": "ipython",
    "version": 3
   },
   "file_extension": ".py",
   "mimetype": "text/x-python",
   "name": "python",
   "nbconvert_exporter": "python",
   "pygments_lexer": "ipython3",
   "version": "3.11.3"
  }
 },
 "nbformat": 4,
 "nbformat_minor": 5
}
